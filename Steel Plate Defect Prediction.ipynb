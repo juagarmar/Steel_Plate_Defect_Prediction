{
  "nbformat": 4,
  "nbformat_minor": 0,
  "metadata": {
    "colab": {
      "provenance": []
    },
    "kernelspec": {
      "name": "python3",
      "display_name": "Python 3"
    },
    "language_info": {
      "name": "python"
    }
  },
  "cells": [
    {
      "cell_type": "code",
      "execution_count": 1,
      "metadata": {
        "id": "-6AuBCpxsEys"
      },
      "outputs": [],
      "source": [
        "#Steel Plate Defect Prediction"
      ]
    },
    {
      "cell_type": "code",
      "source": [
        "import os\n",
        "import numpy as np\n",
        "import pandas as pd\n",
        "from sklearn.model_selection import train_test_split\n",
        "from sklearn.preprocessing import StandardScaler\n",
        "from sklearn.linear_model import LogisticRegression\n",
        "from sklearn.metrics import roc_auc_score\n",
        "import tensorflow as tf\n",
        "from tensorflow.keras import layers, models\n",
        "from sklearn.metrics import roc_auc_score"
      ],
      "metadata": {
        "id": "r1IjNO_TsFvv"
      },
      "execution_count": 4,
      "outputs": []
    },
    {
      "cell_type": "code",
      "source": [
        "path=r'/content/Challenge'"
      ],
      "metadata": {
        "id": "RcMJf7gCscNw"
      },
      "execution_count": 5,
      "outputs": []
    },
    {
      "cell_type": "code",
      "source": [
        "train_data = pd.read_csv(path + \"/train.csv\")\n",
        "test_data = pd.read_csv(path + \"/test.csv\")\n",
        "\n",
        "X = train_data.drop(columns=['id', 'Pastry', 'Z_Scratch', 'K_Scatch', 'Stains', 'Dirtiness', 'Bumps', 'Other_Faults'])\n",
        "y = train_data[['Pastry', 'Z_Scratch', 'K_Scatch', 'Stains', 'Dirtiness', 'Bumps', 'Other_Faults']]\n",
        "X = train_data.drop(columns=['id', 'Pastry', 'Z_Scratch', 'K_Scatch', 'Stains', 'Dirtiness', 'Bumps', 'Other_Faults'])\n",
        "y = train_data[['Pastry', 'Z_Scratch', 'K_Scatch', 'Stains', 'Dirtiness', 'Bumps', 'Other_Faults']]\n",
        "\n",
        "X_train, X_val, y_train, y_val = train_test_split(X, y, test_size=0.2, random_state=42)\n",
        "\n",
        "scaler = StandardScaler()\n",
        "X_train_scaled = scaler.fit_transform(X_train)\n",
        "X_val_scaled = scaler.transform(X_val)"
      ],
      "metadata": {
        "id": "nwEwDo16sLKZ"
      },
      "execution_count": 6,
      "outputs": []
    },
    {
      "cell_type": "code",
      "source": [
        "# 2. Model Definition\n",
        "def create_model(input_shape, num_labels):\n",
        "    model = models.Sequential([\n",
        "        layers.Dense(64, activation='relu', input_shape=(input_shape,)),\n",
        "        layers.Dense(64, activation='relu'),\n",
        "        layers.Dense(num_labels, activation='sigmoid')  # Sigmoid activation for multi-label classification\n",
        "    ])\n",
        "    return model\n",
        "\n",
        "num_features = X_train_scaled.shape[1]\n",
        "num_labels = y_train.shape[1]\n",
        "\n",
        "model = create_model(num_features, num_labels)\n",
        "\n",
        "# 3. Compilation\n",
        "model.compile(optimizer='adam',\n",
        "              loss='binary_crossentropy',  # Suitable for multi-label classification\n",
        "              metrics=['accuracy'])\n",
        "\n",
        "# Summary of the model\n",
        "model.summary()\n",
        "\n",
        "# 4. Training\n",
        "history = model.fit(X_train_scaled, y_train,\n",
        "                    epochs=100,\n",
        "                    batch_size=32,\n",
        "                    validation_data=(X_val_scaled, y_val))\n",
        "\n",
        "# 5. Evaluation\n",
        "val_predictions = model.predict(X_val_scaled)\n",
        "auc_scores = []\n",
        "\n",
        "for i, defect in enumerate(['Pastry', 'Z_Scratch', 'K_Scatch', 'Stains', 'Dirtiness', 'Bumps', 'Other_Faults']):\n",
        "    auc = roc_auc_score(y_val.iloc[:, i], val_predictions[:, i])\n",
        "    auc_scores.append(auc)\n",
        "    print(f\"AUC for {defect}: {auc}\")\n",
        "\n",
        "avg_auc = sum(auc_scores) / len(auc_scores)\n",
        "print(f\"Average AUC: {avg_auc}\")\n"
      ],
      "metadata": {
        "colab": {
          "base_uri": "https://localhost:8080/"
        },
        "id": "tjGyD6GEsGEE",
        "outputId": "728ef6e0-0367-442b-889d-1180f1b35239"
      },
      "execution_count": 7,
      "outputs": [
        {
          "output_type": "stream",
          "name": "stdout",
          "text": [
            "Model: \"sequential\"\n",
            "_________________________________________________________________\n",
            " Layer (type)                Output Shape              Param #   \n",
            "=================================================================\n",
            " dense (Dense)               (None, 64)                1792      \n",
            "                                                                 \n",
            " dense_1 (Dense)             (None, 64)                4160      \n",
            "                                                                 \n",
            " dense_2 (Dense)             (None, 7)                 455       \n",
            "                                                                 \n",
            "=================================================================\n",
            "Total params: 6407 (25.03 KB)\n",
            "Trainable params: 6407 (25.03 KB)\n",
            "Non-trainable params: 0 (0.00 Byte)\n",
            "_________________________________________________________________\n",
            "Epoch 1/100\n",
            "481/481 [==============================] - 3s 3ms/step - loss: 0.2676 - accuracy: 0.5147 - val_loss: 0.2364 - val_accuracy: 0.5424\n",
            "Epoch 2/100\n",
            "481/481 [==============================] - 2s 4ms/step - loss: 0.2370 - accuracy: 0.5513 - val_loss: 0.2312 - val_accuracy: 0.5494\n",
            "Epoch 3/100\n",
            "481/481 [==============================] - 2s 3ms/step - loss: 0.2335 - accuracy: 0.5574 - val_loss: 0.2310 - val_accuracy: 0.5489\n",
            "Epoch 4/100\n",
            "481/481 [==============================] - 2s 3ms/step - loss: 0.2314 - accuracy: 0.5579 - val_loss: 0.2321 - val_accuracy: 0.5453\n",
            "Epoch 5/100\n",
            "481/481 [==============================] - 1s 2ms/step - loss: 0.2298 - accuracy: 0.5643 - val_loss: 0.2300 - val_accuracy: 0.5557\n",
            "Epoch 6/100\n",
            "481/481 [==============================] - 1s 3ms/step - loss: 0.2288 - accuracy: 0.5629 - val_loss: 0.2312 - val_accuracy: 0.5559\n",
            "Epoch 7/100\n",
            "481/481 [==============================] - 1s 3ms/step - loss: 0.2280 - accuracy: 0.5633 - val_loss: 0.2297 - val_accuracy: 0.5544\n",
            "Epoch 8/100\n",
            "481/481 [==============================] - 1s 3ms/step - loss: 0.2272 - accuracy: 0.5683 - val_loss: 0.2295 - val_accuracy: 0.5539\n",
            "Epoch 9/100\n",
            "481/481 [==============================] - 1s 3ms/step - loss: 0.2266 - accuracy: 0.5708 - val_loss: 0.2302 - val_accuracy: 0.5546\n",
            "Epoch 10/100\n",
            "481/481 [==============================] - 1s 3ms/step - loss: 0.2255 - accuracy: 0.5719 - val_loss: 0.2300 - val_accuracy: 0.5507\n",
            "Epoch 11/100\n",
            "481/481 [==============================] - 2s 4ms/step - loss: 0.2250 - accuracy: 0.5713 - val_loss: 0.2288 - val_accuracy: 0.5539\n",
            "Epoch 12/100\n",
            "481/481 [==============================] - 2s 3ms/step - loss: 0.2241 - accuracy: 0.5725 - val_loss: 0.2298 - val_accuracy: 0.5585\n",
            "Epoch 13/100\n",
            "481/481 [==============================] - 1s 3ms/step - loss: 0.2234 - accuracy: 0.5720 - val_loss: 0.2288 - val_accuracy: 0.5549\n",
            "Epoch 14/100\n",
            "481/481 [==============================] - 1s 2ms/step - loss: 0.2229 - accuracy: 0.5763 - val_loss: 0.2290 - val_accuracy: 0.5601\n",
            "Epoch 15/100\n",
            "481/481 [==============================] - 1s 3ms/step - loss: 0.2224 - accuracy: 0.5795 - val_loss: 0.2291 - val_accuracy: 0.5596\n",
            "Epoch 16/100\n",
            "481/481 [==============================] - 1s 2ms/step - loss: 0.2221 - accuracy: 0.5772 - val_loss: 0.2298 - val_accuracy: 0.5531\n",
            "Epoch 17/100\n",
            "481/481 [==============================] - 1s 3ms/step - loss: 0.2216 - accuracy: 0.5787 - val_loss: 0.2298 - val_accuracy: 0.5525\n",
            "Epoch 18/100\n",
            "481/481 [==============================] - 1s 3ms/step - loss: 0.2208 - accuracy: 0.5871 - val_loss: 0.2295 - val_accuracy: 0.5562\n",
            "Epoch 19/100\n",
            "481/481 [==============================] - 1s 3ms/step - loss: 0.2202 - accuracy: 0.5819 - val_loss: 0.2312 - val_accuracy: 0.5520\n",
            "Epoch 20/100\n",
            "481/481 [==============================] - 3s 5ms/step - loss: 0.2197 - accuracy: 0.5833 - val_loss: 0.2298 - val_accuracy: 0.5541\n",
            "Epoch 21/100\n",
            "481/481 [==============================] - 1s 3ms/step - loss: 0.2193 - accuracy: 0.5869 - val_loss: 0.2296 - val_accuracy: 0.5604\n",
            "Epoch 22/100\n",
            "481/481 [==============================] - 1s 3ms/step - loss: 0.2189 - accuracy: 0.5857 - val_loss: 0.2292 - val_accuracy: 0.5598\n",
            "Epoch 23/100\n",
            "481/481 [==============================] - 1s 3ms/step - loss: 0.2182 - accuracy: 0.5871 - val_loss: 0.2317 - val_accuracy: 0.5572\n",
            "Epoch 24/100\n",
            "481/481 [==============================] - 1s 3ms/step - loss: 0.2176 - accuracy: 0.5906 - val_loss: 0.2318 - val_accuracy: 0.5473\n",
            "Epoch 25/100\n",
            "481/481 [==============================] - 1s 3ms/step - loss: 0.2172 - accuracy: 0.5944 - val_loss: 0.2305 - val_accuracy: 0.5572\n",
            "Epoch 26/100\n",
            "481/481 [==============================] - 1s 3ms/step - loss: 0.2167 - accuracy: 0.5941 - val_loss: 0.2322 - val_accuracy: 0.5484\n",
            "Epoch 27/100\n",
            "481/481 [==============================] - 1s 3ms/step - loss: 0.2164 - accuracy: 0.5919 - val_loss: 0.2315 - val_accuracy: 0.5570\n",
            "Epoch 28/100\n",
            "481/481 [==============================] - 2s 4ms/step - loss: 0.2156 - accuracy: 0.5954 - val_loss: 0.2321 - val_accuracy: 0.5544\n",
            "Epoch 29/100\n",
            "481/481 [==============================] - 2s 4ms/step - loss: 0.2152 - accuracy: 0.5946 - val_loss: 0.2304 - val_accuracy: 0.5585\n",
            "Epoch 30/100\n",
            "481/481 [==============================] - 1s 3ms/step - loss: 0.2146 - accuracy: 0.5945 - val_loss: 0.2324 - val_accuracy: 0.5466\n",
            "Epoch 31/100\n",
            "481/481 [==============================] - 1s 3ms/step - loss: 0.2144 - accuracy: 0.5971 - val_loss: 0.2326 - val_accuracy: 0.5481\n",
            "Epoch 32/100\n",
            "481/481 [==============================] - 1s 3ms/step - loss: 0.2139 - accuracy: 0.5995 - val_loss: 0.2326 - val_accuracy: 0.5572\n",
            "Epoch 33/100\n",
            "481/481 [==============================] - 1s 3ms/step - loss: 0.2134 - accuracy: 0.6017 - val_loss: 0.2328 - val_accuracy: 0.5562\n",
            "Epoch 34/100\n",
            "481/481 [==============================] - 1s 3ms/step - loss: 0.2128 - accuracy: 0.6031 - val_loss: 0.2333 - val_accuracy: 0.5533\n",
            "Epoch 35/100\n",
            "481/481 [==============================] - 1s 3ms/step - loss: 0.2126 - accuracy: 0.6010 - val_loss: 0.2353 - val_accuracy: 0.5463\n",
            "Epoch 36/100\n",
            "481/481 [==============================] - 1s 3ms/step - loss: 0.2121 - accuracy: 0.6037 - val_loss: 0.2346 - val_accuracy: 0.5549\n",
            "Epoch 37/100\n",
            "481/481 [==============================] - 2s 4ms/step - loss: 0.2116 - accuracy: 0.6034 - val_loss: 0.2333 - val_accuracy: 0.5565\n",
            "Epoch 38/100\n",
            "481/481 [==============================] - 2s 3ms/step - loss: 0.2112 - accuracy: 0.6059 - val_loss: 0.2373 - val_accuracy: 0.5463\n",
            "Epoch 39/100\n",
            "481/481 [==============================] - 1s 3ms/step - loss: 0.2107 - accuracy: 0.6054 - val_loss: 0.2348 - val_accuracy: 0.5489\n",
            "Epoch 40/100\n",
            "481/481 [==============================] - 1s 2ms/step - loss: 0.2105 - accuracy: 0.6086 - val_loss: 0.2343 - val_accuracy: 0.5512\n",
            "Epoch 41/100\n",
            "481/481 [==============================] - 1s 3ms/step - loss: 0.2098 - accuracy: 0.6046 - val_loss: 0.2357 - val_accuracy: 0.5453\n",
            "Epoch 42/100\n",
            "481/481 [==============================] - 1s 3ms/step - loss: 0.2098 - accuracy: 0.6109 - val_loss: 0.2351 - val_accuracy: 0.5518\n",
            "Epoch 43/100\n",
            "481/481 [==============================] - 1s 3ms/step - loss: 0.2092 - accuracy: 0.6116 - val_loss: 0.2367 - val_accuracy: 0.5372\n",
            "Epoch 44/100\n",
            "481/481 [==============================] - 1s 3ms/step - loss: 0.2089 - accuracy: 0.6125 - val_loss: 0.2361 - val_accuracy: 0.5531\n",
            "Epoch 45/100\n",
            "481/481 [==============================] - 1s 3ms/step - loss: 0.2085 - accuracy: 0.6140 - val_loss: 0.2365 - val_accuracy: 0.5476\n",
            "Epoch 46/100\n",
            "481/481 [==============================] - 2s 4ms/step - loss: 0.2079 - accuracy: 0.6129 - val_loss: 0.2390 - val_accuracy: 0.5489\n",
            "Epoch 47/100\n",
            "481/481 [==============================] - 2s 3ms/step - loss: 0.2076 - accuracy: 0.6159 - val_loss: 0.2376 - val_accuracy: 0.5437\n",
            "Epoch 48/100\n",
            "481/481 [==============================] - 1s 3ms/step - loss: 0.2073 - accuracy: 0.6150 - val_loss: 0.2365 - val_accuracy: 0.5458\n",
            "Epoch 49/100\n",
            "481/481 [==============================] - 2s 3ms/step - loss: 0.2069 - accuracy: 0.6139 - val_loss: 0.2377 - val_accuracy: 0.5432\n",
            "Epoch 50/100\n",
            "481/481 [==============================] - 1s 3ms/step - loss: 0.2066 - accuracy: 0.6187 - val_loss: 0.2399 - val_accuracy: 0.5408\n",
            "Epoch 51/100\n",
            "481/481 [==============================] - 1s 3ms/step - loss: 0.2062 - accuracy: 0.6194 - val_loss: 0.2387 - val_accuracy: 0.5450\n",
            "Epoch 52/100\n",
            "481/481 [==============================] - 1s 2ms/step - loss: 0.2059 - accuracy: 0.6204 - val_loss: 0.2403 - val_accuracy: 0.5408\n",
            "Epoch 53/100\n",
            "481/481 [==============================] - 1s 3ms/step - loss: 0.2056 - accuracy: 0.6191 - val_loss: 0.2430 - val_accuracy: 0.5380\n",
            "Epoch 54/100\n",
            "481/481 [==============================] - 1s 3ms/step - loss: 0.2049 - accuracy: 0.6223 - val_loss: 0.2404 - val_accuracy: 0.5429\n",
            "Epoch 55/100\n",
            "481/481 [==============================] - 2s 4ms/step - loss: 0.2048 - accuracy: 0.6213 - val_loss: 0.2413 - val_accuracy: 0.5442\n",
            "Epoch 56/100\n",
            "481/481 [==============================] - 1s 3ms/step - loss: 0.2044 - accuracy: 0.6236 - val_loss: 0.2429 - val_accuracy: 0.5354\n",
            "Epoch 57/100\n",
            "481/481 [==============================] - 2s 3ms/step - loss: 0.2039 - accuracy: 0.6249 - val_loss: 0.2414 - val_accuracy: 0.5450\n",
            "Epoch 58/100\n",
            "481/481 [==============================] - 2s 5ms/step - loss: 0.2036 - accuracy: 0.6225 - val_loss: 0.2421 - val_accuracy: 0.5395\n",
            "Epoch 59/100\n",
            "481/481 [==============================] - 1s 3ms/step - loss: 0.2033 - accuracy: 0.6272 - val_loss: 0.2413 - val_accuracy: 0.5440\n",
            "Epoch 60/100\n",
            "481/481 [==============================] - 1s 3ms/step - loss: 0.2028 - accuracy: 0.6280 - val_loss: 0.2431 - val_accuracy: 0.5390\n",
            "Epoch 61/100\n",
            "481/481 [==============================] - 2s 4ms/step - loss: 0.2027 - accuracy: 0.6276 - val_loss: 0.2438 - val_accuracy: 0.5432\n",
            "Epoch 62/100\n",
            "481/481 [==============================] - 2s 4ms/step - loss: 0.2024 - accuracy: 0.6300 - val_loss: 0.2426 - val_accuracy: 0.5388\n",
            "Epoch 63/100\n",
            "481/481 [==============================] - 2s 4ms/step - loss: 0.2018 - accuracy: 0.6300 - val_loss: 0.2437 - val_accuracy: 0.5471\n",
            "Epoch 64/100\n",
            "481/481 [==============================] - 1s 3ms/step - loss: 0.2015 - accuracy: 0.6321 - val_loss: 0.2424 - val_accuracy: 0.5362\n",
            "Epoch 65/100\n",
            "481/481 [==============================] - 1s 3ms/step - loss: 0.2014 - accuracy: 0.6291 - val_loss: 0.2444 - val_accuracy: 0.5382\n",
            "Epoch 66/100\n",
            "481/481 [==============================] - 1s 3ms/step - loss: 0.2009 - accuracy: 0.6349 - val_loss: 0.2448 - val_accuracy: 0.5395\n",
            "Epoch 67/100\n",
            "481/481 [==============================] - 1s 3ms/step - loss: 0.2007 - accuracy: 0.6338 - val_loss: 0.2456 - val_accuracy: 0.5421\n",
            "Epoch 68/100\n",
            "481/481 [==============================] - 1s 3ms/step - loss: 0.2005 - accuracy: 0.6373 - val_loss: 0.2480 - val_accuracy: 0.5336\n",
            "Epoch 69/100\n",
            "481/481 [==============================] - 1s 3ms/step - loss: 0.1998 - accuracy: 0.6339 - val_loss: 0.2451 - val_accuracy: 0.5437\n",
            "Epoch 70/100\n",
            "481/481 [==============================] - 2s 3ms/step - loss: 0.1998 - accuracy: 0.6369 - val_loss: 0.2456 - val_accuracy: 0.5442\n",
            "Epoch 71/100\n",
            "481/481 [==============================] - 2s 5ms/step - loss: 0.1996 - accuracy: 0.6356 - val_loss: 0.2465 - val_accuracy: 0.5424\n",
            "Epoch 72/100\n",
            "481/481 [==============================] - 1s 3ms/step - loss: 0.1991 - accuracy: 0.6395 - val_loss: 0.2472 - val_accuracy: 0.5364\n",
            "Epoch 73/100\n",
            "481/481 [==============================] - 1s 3ms/step - loss: 0.1992 - accuracy: 0.6361 - val_loss: 0.2476 - val_accuracy: 0.5390\n",
            "Epoch 74/100\n",
            "481/481 [==============================] - 1s 3ms/step - loss: 0.1981 - accuracy: 0.6412 - val_loss: 0.2482 - val_accuracy: 0.5393\n",
            "Epoch 75/100\n",
            "481/481 [==============================] - 1s 3ms/step - loss: 0.1986 - accuracy: 0.6414 - val_loss: 0.2505 - val_accuracy: 0.5351\n",
            "Epoch 76/100\n",
            "481/481 [==============================] - 1s 3ms/step - loss: 0.1981 - accuracy: 0.6431 - val_loss: 0.2500 - val_accuracy: 0.5362\n",
            "Epoch 77/100\n",
            "481/481 [==============================] - 2s 3ms/step - loss: 0.1977 - accuracy: 0.6442 - val_loss: 0.2492 - val_accuracy: 0.5442\n",
            "Epoch 78/100\n",
            "481/481 [==============================] - 1s 3ms/step - loss: 0.1976 - accuracy: 0.6408 - val_loss: 0.2508 - val_accuracy: 0.5362\n",
            "Epoch 79/100\n",
            "481/481 [==============================] - 2s 4ms/step - loss: 0.1973 - accuracy: 0.6449 - val_loss: 0.2524 - val_accuracy: 0.5375\n",
            "Epoch 80/100\n",
            "481/481 [==============================] - 2s 4ms/step - loss: 0.1970 - accuracy: 0.6433 - val_loss: 0.2517 - val_accuracy: 0.5372\n",
            "Epoch 81/100\n",
            "481/481 [==============================] - 1s 3ms/step - loss: 0.1964 - accuracy: 0.6429 - val_loss: 0.2515 - val_accuracy: 0.5372\n",
            "Epoch 82/100\n",
            "481/481 [==============================] - 1s 3ms/step - loss: 0.1969 - accuracy: 0.6431 - val_loss: 0.2525 - val_accuracy: 0.5341\n",
            "Epoch 83/100\n",
            "481/481 [==============================] - 1s 3ms/step - loss: 0.1960 - accuracy: 0.6468 - val_loss: 0.2530 - val_accuracy: 0.5310\n",
            "Epoch 84/100\n",
            "481/481 [==============================] - 1s 3ms/step - loss: 0.1958 - accuracy: 0.6431 - val_loss: 0.2511 - val_accuracy: 0.5411\n",
            "Epoch 85/100\n",
            "481/481 [==============================] - 1s 3ms/step - loss: 0.1958 - accuracy: 0.6442 - val_loss: 0.2525 - val_accuracy: 0.5351\n",
            "Epoch 86/100\n",
            "481/481 [==============================] - 1s 3ms/step - loss: 0.1949 - accuracy: 0.6514 - val_loss: 0.2553 - val_accuracy: 0.5304\n",
            "Epoch 87/100\n",
            "481/481 [==============================] - 1s 3ms/step - loss: 0.1950 - accuracy: 0.6496 - val_loss: 0.2529 - val_accuracy: 0.5390\n",
            "Epoch 88/100\n",
            "481/481 [==============================] - 2s 4ms/step - loss: 0.1951 - accuracy: 0.6484 - val_loss: 0.2565 - val_accuracy: 0.5369\n",
            "Epoch 89/100\n",
            "481/481 [==============================] - 2s 3ms/step - loss: 0.1950 - accuracy: 0.6447 - val_loss: 0.2545 - val_accuracy: 0.5380\n",
            "Epoch 90/100\n",
            "481/481 [==============================] - 1s 2ms/step - loss: 0.1942 - accuracy: 0.6481 - val_loss: 0.2559 - val_accuracy: 0.5385\n",
            "Epoch 91/100\n",
            "481/481 [==============================] - 1s 3ms/step - loss: 0.1941 - accuracy: 0.6558 - val_loss: 0.2563 - val_accuracy: 0.5390\n",
            "Epoch 92/100\n",
            "481/481 [==============================] - 1s 3ms/step - loss: 0.1940 - accuracy: 0.6509 - val_loss: 0.2609 - val_accuracy: 0.5299\n",
            "Epoch 93/100\n",
            "481/481 [==============================] - 1s 2ms/step - loss: 0.1939 - accuracy: 0.6494 - val_loss: 0.2566 - val_accuracy: 0.5346\n",
            "Epoch 94/100\n",
            "481/481 [==============================] - 1s 3ms/step - loss: 0.1935 - accuracy: 0.6516 - val_loss: 0.2573 - val_accuracy: 0.5325\n",
            "Epoch 95/100\n",
            "481/481 [==============================] - 1s 3ms/step - loss: 0.1932 - accuracy: 0.6528 - val_loss: 0.2610 - val_accuracy: 0.5281\n",
            "Epoch 96/100\n",
            "481/481 [==============================] - 1s 2ms/step - loss: 0.1930 - accuracy: 0.6501 - val_loss: 0.2576 - val_accuracy: 0.5336\n",
            "Epoch 97/100\n",
            "481/481 [==============================] - 2s 4ms/step - loss: 0.1928 - accuracy: 0.6534 - val_loss: 0.2599 - val_accuracy: 0.5359\n",
            "Epoch 98/100\n",
            "481/481 [==============================] - 2s 4ms/step - loss: 0.1922 - accuracy: 0.6544 - val_loss: 0.2594 - val_accuracy: 0.5354\n",
            "Epoch 99/100\n",
            "481/481 [==============================] - 1s 3ms/step - loss: 0.1923 - accuracy: 0.6538 - val_loss: 0.2617 - val_accuracy: 0.5354\n",
            "Epoch 100/100\n",
            "481/481 [==============================] - 1s 2ms/step - loss: 0.1923 - accuracy: 0.6539 - val_loss: 0.2598 - val_accuracy: 0.5268\n",
            "121/121 [==============================] - 0s 2ms/step\n",
            "AUC for Pastry: 0.8484086819454953\n",
            "AUC for Z_Scratch: 0.9193382500501707\n",
            "AUC for K_Scatch: 0.9798477521743726\n",
            "AUC for Stains: 0.9844337606837607\n",
            "AUC for Dirtiness: 0.8472372189099104\n",
            "AUC for Bumps: 0.750065135296373\n",
            "AUC for Other_Faults: 0.6542184443015014\n",
            "Average AUC: 0.8547927490516549\n"
          ]
        }
      ]
    },
    {
      "cell_type": "code",
      "source": [
        "test_data_i = test_data.drop(columns=['id'])"
      ],
      "metadata": {
        "id": "C_kUQVyBz4yW"
      },
      "execution_count": 19,
      "outputs": []
    },
    {
      "cell_type": "code",
      "source": [
        "scaler = StandardScaler()\n",
        "X_test_scaled = scaler.fit_transform(test_data_i)"
      ],
      "metadata": {
        "id": "emXKqbGRziTB"
      },
      "execution_count": 20,
      "outputs": []
    },
    {
      "cell_type": "code",
      "source": [
        "test_predictions = model.predict(X_test_scaled)"
      ],
      "metadata": {
        "colab": {
          "base_uri": "https://localhost:8080/"
        },
        "id": "PNMVhNN11Bch",
        "outputId": "835f7480-8efc-4045-94c3-1ac39a02a834"
      },
      "execution_count": 21,
      "outputs": [
        {
          "output_type": "stream",
          "name": "stdout",
          "text": [
            "401/401 [==============================] - 1s 2ms/step\n"
          ]
        }
      ]
    },
    {
      "cell_type": "code",
      "source": [
        "# Assuming `test_data` has an 'id' column and you've stored your predictions in `test_predictions`\n",
        "submission_df = pd.DataFrame(test_predictions, columns=['Pastry', 'Z_Scratch', 'K_Scatch', 'Stains', 'Dirtiness',\n",
        "                                                        'Bumps', 'Other_Faults'])\n",
        "submission_df['id'] = test_data['id']"
      ],
      "metadata": {
        "id": "9_uoMZBezNVZ"
      },
      "execution_count": 22,
      "outputs": []
    },
    {
      "cell_type": "code",
      "source": [
        "submission_df = submission_df[['id', 'Pastry', 'Z_Scratch', 'K_Scatch', 'Stains', 'Dirtiness', 'Bumps', 'Other_Faults']]"
      ],
      "metadata": {
        "id": "dWpWPRiAzOds"
      },
      "execution_count": 23,
      "outputs": []
    },
    {
      "cell_type": "code",
      "source": [
        "submission_df.to_csv(path + '/my_submission.csv', index=False)"
      ],
      "metadata": {
        "id": "n35W3gmVza9O"
      },
      "execution_count": 24,
      "outputs": []
    }
  ]
}